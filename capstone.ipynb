{
 "cells": [
  {
   "cell_type": "markdown",
   "metadata": {
    "persistent_id": "70507424-ca1d-4fc6-b5cd-4d41c1220948"
   },
   "source": [
    "This notebook will be mainly used for the capstone project"
   ]
  },
  {
   "cell_type": "code",
   "execution_count": 1,
   "metadata": {
    "execution_event_id": "49ac8e3a-e28e-420c-9673-e6d335ebc796",
    "last_executed_text": "import pandas as pd\nimport numpy as np\nimport matplotlib.pyplot as plt\n\nprint('Hello Capstone Project Course!')",
    "persistent_id": "cb08a625-e5a0-49aa-8903-b47d549fd783"
   },
   "outputs": [
    {
     "name": "stdout",
     "output_type": "stream",
     "text": [
      "Hello Capstone Project Course!\n"
     ]
    }
   ],
   "source": [
    "import pandas as pd\n",
    "import numpy as np\n",
    "import matplotlib.pyplot as plt\n",
    "\n",
    "print('Hello Capstone Project Course!')"
   ]
  },
  {
   "cell_type": "code",
   "execution_count": null,
   "metadata": {},
   "outputs": [],
   "source": []
  }
 ],
 "metadata": {
  "history": [
   {
    "cell": {
     "executionCount": 1,
     "executionEventId": "49ac8e3a-e28e-420c-9673-e6d335ebc796",
     "hasError": false,
     "id": "3fa7b6a5-8994-4552-8757-21e77e6ac787",
     "outputs": [
      {
       "name": "stdout",
       "output_type": "stream",
       "text": "Hello Capstone Project Course!\n"
      }
     ],
     "persistentId": "cb08a625-e5a0-49aa-8903-b47d549fd783",
     "text": "import pandas as pd\nimport numpy as np\nimport matplotlib.pyplot as plt\n\nprint('Hello Capstone Project Course!')"
    },
    "executionTime": "2020-05-17T08:56:24.499Z"
   }
  ],
  "kernelspec": {
   "display_name": "Python 3",
   "language": "python",
   "name": "python3"
  },
  "language_info": {
   "codemirror_mode": {
    "name": "ipython",
    "version": 3
   },
   "file_extension": ".py",
   "mimetype": "text/x-python",
   "name": "python",
   "nbconvert_exporter": "python",
   "pygments_lexer": "ipython3",
   "version": "3.6.2"
  },
  "uuid": "33e5d090-49e7-4eba-870b-9fd53de34407"
 },
 "nbformat": 4,
 "nbformat_minor": 4
}
